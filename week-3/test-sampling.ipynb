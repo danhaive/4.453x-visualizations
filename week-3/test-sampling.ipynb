{
 "cells": [
  {
   "cell_type": "code",
   "execution_count": 1,
   "metadata": {},
   "outputs": [],
   "source": [
    "# nbi:hide_in\n",
    "import numpy as np\n",
    "import bqplot\n",
    "from ipywidgets import interact, IntSlider\n",
    "from bqplot import (\n",
    "    Axis, LinearScale, Scatter, Figure\n",
    ")"
   ]
  },
  {
   "cell_type": "code",
   "execution_count": 2,
   "metadata": {},
   "outputs": [],
   "source": [
    "# nbi:hide_in\n",
    "def generate_grid(n):\n",
    "    x = np.linspace(0,1,n)\n",
    "    x,y = np.meshgrid(x,x)\n",
    "    points = np.vstack([x.flatten(),y.flatten()]).T\n",
    "    return points[:,0], points[:,1]"
   ]
  },
  {
   "cell_type": "code",
   "execution_count": 6,
   "metadata": {},
   "outputs": [
    {
     "data": {
      "application/vnd.jupyter.widget-view+json": {
       "model_id": "c9e27d6c348442bca8626cb5d30159ed",
       "version_major": 2,
       "version_minor": 0
      },
      "text/plain": [
       "Figure(axes=[Axis(label='Design variable 1', scale=LinearScale()), Axis(label='Design variable 2', orientation…"
      ]
     },
     "metadata": {},
     "output_type": "display_data"
    }
   ],
   "source": [
    "# nbi:hide_in\n",
    "sc_x = LinearScale()\n",
    "sc_y = LinearScale()\n",
    "\n",
    "pts_x , pts_y = generate_grid(10)\n",
    "\n",
    "scatt = Scatter(x=pts_x, y=pts_y, scales={'x': sc_x, 'y': sc_y})\n",
    "ax_x = Axis(scale=sc_x, label='Design variable 1')\n",
    "ax_y = Axis(scale=sc_y, orientation='vertical', tick_format='0.0f', label='Design variable 2')\n",
    "display(Figure(marks=[scatt], axes=[ax_x, ax_y]))"
   ]
  },
  {
   "cell_type": "code",
   "execution_count": 7,
   "metadata": {},
   "outputs": [],
   "source": [
    "# nbi:hide_in\n",
    "def change_resolution(n):\n",
    "    pts_x , pts_y = generate_grid(n)\n",
    "    scatt.x = pts_x\n",
    "    scatt.y = pts_y\n",
    "    "
   ]
  },
  {
   "cell_type": "code",
   "execution_count": 8,
   "metadata": {},
   "outputs": [
    {
     "data": {
      "application/vnd.jupyter.widget-view+json": {
       "model_id": "d242188e568b4f329342baa547663e4d",
       "version_major": 2,
       "version_minor": 0
      },
      "text/plain": [
       "interactive(children=(IntSlider(value=10, description='n', max=20, min=2), Output()), _dom_classes=('widget-in…"
      ]
     },
     "metadata": {},
     "output_type": "display_data"
    }
   ],
   "source": [
    "# nbi:hide_in\n",
    "#interact(change_resolution, n=IntSlider(value=10, min=2, max=20));"
   ]
  }
 ],
 "metadata": {
  "kernelspec": {
   "display_name": "Python 3",
   "language": "python",
   "name": "python3"
  },
  "language_info": {
   "codemirror_mode": {
    "name": "ipython",
    "version": 3
   },
   "file_extension": ".py",
   "mimetype": "text/x-python",
   "name": "python",
   "nbconvert_exporter": "python",
   "pygments_lexer": "ipython3",
   "version": "3.8.5"
  }
 },
 "nbformat": 4,
 "nbformat_minor": 2
}
